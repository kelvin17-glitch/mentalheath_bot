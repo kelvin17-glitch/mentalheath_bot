{
  "cells": [
    {
      "cell_type": "markdown",
      "source": [
        "### INTENT AND EMOTION DETECTION USING DistilBERT"
      ],
      "metadata": {
        "id": "CazxJ5b7s7SZ"
      }
    },
    {
      "cell_type": "code",
      "execution_count": 16,
      "metadata": {
        "id": "BGuiCrEEm1lm"
      },
      "outputs": [],
      "source": [
        "# Import required libraries\n",
        "from transformers import AutoTokenizer, AutoModelForSequenceClassification\n",
        "import torch\n",
        "import torch.nn.functional as F"
      ]
    },
    {
      "cell_type": "code",
      "source": [
        "# Define intent keywords\n",
        "intent_keywords = {\n",
        "    \"venting\": [\"frustrated\", \"angry\", \"fed up\", \"tired\", \"exhausted\"],\n",
        "    \"seeking_advice\": [\"what should I do\", \"any suggestions\", \"advice\", \"recommend\"],\n",
        "    \"gratitude\": [\"thank you\", \"appreciate\", \"grateful\", \"thanks a lot\"],\n",
        "    \"general_chat\": [\"how are you\", \"what's up\", \"hello\", \"hi\"],\n",
        "}\n",
        "# Define personas\n",
        "persona_styles = {\n",
        "    \"companion\": lambda msg: f\"I'm right here with you. {msg} We can face this together.\",\n",
        "    \"coach\": lambda msg: f\"Alright, let's break it down. {msg} You’ve got what it takes.\",\n",
        "    \"listener\": lambda msg: f\"I'm listening... {msg} Take your time, I'm here for it.\",\n",
        "}"
      ],
      "metadata": {
        "id": "rYweP5qLwMDX"
      },
      "execution_count": 17,
      "outputs": []
    },
    {
      "cell_type": "code",
      "execution_count": 18,
      "metadata": {
        "id": "opHCkvjsoChf",
        "colab": {
          "base_uri": "https://localhost:8080/"
        },
        "outputId": "1420e6d3-cb8f-44e8-f01a-cb106315d441"
      },
      "outputs": [
        {
          "name": "stdout",
          "output_type": "stream",
          "text": [
            "Enter a sentence: I broke up with my girlfriend.\n",
            "Choose a persona (companion, coach, listener): companion\n"
          ]
        }
      ],
      "source": [
        "# Get user input\n",
        "user_input = input(\"Enter a sentence: \")\n",
        "chosen_persona = input(\"Choose a persona (companion, coach, listener): \")"
      ]
    },
    {
      "cell_type": "code",
      "source": [
        "# Intent detection\n",
        "def detect_intent(text):\n",
        "  text = text.lower()\n",
        "  for intent, keywords in intent_keywords.items():\n",
        "    if any(keyword in text for keyword in keywords):\n",
        "      return intent\n",
        "  return \"general_chat\"\n",
        "intent = detect_intent(user_input)"
      ],
      "metadata": {
        "id": "nfNTJRRAwwuY"
      },
      "execution_count": 19,
      "outputs": []
    },
    {
      "cell_type": "code",
      "source": [
        "# Load tokenizer and model\n",
        "tokenizer = AutoTokenizer.from_pretrained('nateraw/bert-base-uncased-emotion')\n",
        "model = AutoModelForSequenceClassification.from_pretrained('nateraw/bert-base-uncased-emotion')\n",
        "\n",
        "# Preprocess input\n",
        "inputs = tokenizer(user_input, return_tensors=\"pt\")\n",
        "\n",
        "# Run through the model\n",
        "with torch.no_grad():\n",
        "  outputs = model(**inputs)\n",
        "\n",
        "# Get emotion probabilities\n",
        "probs = F.softmax(outputs.logits, dim=1)\n",
        "predicted_emotion = torch.argmax(probs, dim=1).item()\n",
        "emotion_label = model.config.id2label[predicted_emotion]"
      ],
      "metadata": {
        "id": "NCGk3F3vxcnv"
      },
      "execution_count": 20,
      "outputs": []
    },
    {
      "cell_type": "code",
      "execution_count": 24,
      "metadata": {
        "id": "bO_bzUX3ozVB"
      },
      "outputs": [],
      "source": [
        "# Respond based on emotion\n",
        "base_response = {\n",
        "    \"sadness\": \"I'm really sorry you're feeling this way. Want to talk more about what's weighing you down?\",\n",
        "    \"joy\": \"That's great to hear! Tell me more about what made you feel this way.\",\n",
        "    \"love\": \"That sounds really heartwarming. Want to share more?\",\n",
        "    \"anger\": \"That sounds frustrating. I'm here if you need to vent.\",\n",
        "    \"fear\": \"It’s okay to feel scared sometimes. Would it help to break it down together?\",\n",
        "    \"surprise\": \"Oh wow! That must have been unexpected. Tell me what happened.\",\n",
        "}.get(emotion_label, \"I'm here for you. Want to tell me more?\")"
      ]
    },
    {
      "cell_type": "code",
      "execution_count": 26,
      "metadata": {
        "id": "__YCZcPjo-fQ",
        "colab": {
          "base_uri": "https://localhost:8080/"
        },
        "outputId": "d8a07798-c303-471f-d0cb-6b17f4c85f93"
      },
      "outputs": [
        {
          "output_type": "stream",
          "name": "stdout",
          "text": [
            "Detected emotion: sadness\n",
            "Intent: general_chat\n",
            "Chatbot: I'm right here with you. I'm really sorry you're feeling this way. Want to talk more about what's weighing you down? We can face this together.\n"
          ]
        }
      ],
      "source": [
        "# Output chatbot reply\n",
        "final_response = persona_styles[chosen_persona](base_response)\n",
        "print(f\"Detected emotion: {emotion_label}\")\n",
        "print(f\"Intent: {intent}\")\n",
        "print(f\"Chatbot: {final_response}\")"
      ]
    }
  ],
  "metadata": {
    "colab": {
      "provenance": []
    },
    "kernelspec": {
      "display_name": "Python 3",
      "name": "python3"
    },
    "language_info": {
      "name": "python"
    }
  },
  "nbformat": 4,
  "nbformat_minor": 0
}